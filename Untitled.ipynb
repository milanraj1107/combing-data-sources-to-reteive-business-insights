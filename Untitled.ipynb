{
 "cells": [
  {
   "cell_type": "code",
   "execution_count": 1,
   "id": "6873ad0d",
   "metadata": {},
   "outputs": [],
   "source": [
    "import pandas as pd\n",
    "import numpy as np"
   ]
  },
  {
   "cell_type": "code",
   "execution_count": 3,
   "id": "0ea33df7",
   "metadata": {},
   "outputs": [],
   "source": [
    "rra_trans= pd.read_csv(\"20240903_104208_05089_ryd5b.csv\")\n",
    "ga_trans = pd.read_excel(\"Project_MyJio_trans.xlsx\")"
   ]
  },
  {
   "cell_type": "code",
   "execution_count": 2,
   "id": "b1297827",
   "metadata": {},
   "outputs": [],
   "source": [
    "##Data Validation"
   ]
  },
  {
   "cell_type": "code",
   "execution_count": 4,
   "id": "f517ec25",
   "metadata": {},
   "outputs": [
    {
     "data": {
      "text/html": [
       "<div>\n",
       "<style scoped>\n",
       "    .dataframe tbody tr th:only-of-type {\n",
       "        vertical-align: middle;\n",
       "    }\n",
       "\n",
       "    .dataframe tbody tr th {\n",
       "        vertical-align: top;\n",
       "    }\n",
       "\n",
       "    .dataframe thead th {\n",
       "        text-align: right;\n",
       "    }\n",
       "</style>\n",
       "<table border=\"1\" class=\"dataframe\">\n",
       "  <thead>\n",
       "    <tr style=\"text-align: right;\">\n",
       "      <th></th>\n",
       "      <th>airmail_id</th>\n",
       "      <th>cust_pincode</th>\n",
       "      <th>business_flag</th>\n",
       "      <th>aop_l1</th>\n",
       "      <th>_col4</th>\n",
       "      <th>_col5</th>\n",
       "    </tr>\n",
       "  </thead>\n",
       "  <tbody>\n",
       "    <tr>\n",
       "      <th>0</th>\n",
       "      <td>17228009660007401A</td>\n",
       "      <td>110034</td>\n",
       "      <td>3P</td>\n",
       "      <td>-</td>\n",
       "      <td>149.0</td>\n",
       "      <td>1.0</td>\n",
       "    </tr>\n",
       "    <tr>\n",
       "      <th>1</th>\n",
       "      <td>17228540670113951A</td>\n",
       "      <td>732205</td>\n",
       "      <td>3P</td>\n",
       "      <td>-</td>\n",
       "      <td>399.0</td>\n",
       "      <td>1.0</td>\n",
       "    </tr>\n",
       "    <tr>\n",
       "      <th>2</th>\n",
       "      <td>17228569380122823A</td>\n",
       "      <td>302004</td>\n",
       "      <td>3P</td>\n",
       "      <td>GM</td>\n",
       "      <td>678.0</td>\n",
       "      <td>1.0</td>\n",
       "    </tr>\n",
       "    <tr>\n",
       "      <th>3</th>\n",
       "      <td>17228407610070923M</td>\n",
       "      <td>782001</td>\n",
       "      <td>3P</td>\n",
       "      <td>GM</td>\n",
       "      <td>300.0</td>\n",
       "      <td>1.0</td>\n",
       "    </tr>\n",
       "    <tr>\n",
       "      <th>4</th>\n",
       "      <td>17228248780020775M</td>\n",
       "      <td>482001</td>\n",
       "      <td>3P</td>\n",
       "      <td>GM</td>\n",
       "      <td>178.0</td>\n",
       "      <td>1.0</td>\n",
       "    </tr>\n",
       "  </tbody>\n",
       "</table>\n",
       "</div>"
      ],
      "text/plain": [
       "           airmail_id  cust_pincode business_flag aop_l1  _col4  _col5\n",
       "0  17228009660007401A        110034            3P      -  149.0    1.0\n",
       "1  17228540670113951A        732205            3P      -  399.0    1.0\n",
       "2  17228569380122823A        302004            3P     GM  678.0    1.0\n",
       "3  17228407610070923M        782001            3P     GM  300.0    1.0\n",
       "4  17228248780020775M        482001            3P     GM  178.0    1.0"
      ]
     },
     "execution_count": 4,
     "metadata": {},
     "output_type": "execute_result"
    }
   ],
   "source": [
    "rra_trans.head()"
   ]
  },
  {
   "cell_type": "code",
   "execution_count": 5,
   "id": "ca313bf2",
   "metadata": {},
   "outputs": [
    {
     "name": "stdout",
     "output_type": "stream",
     "text": [
      "<class 'pandas.core.frame.DataFrame'>\n",
      "RangeIndex: 12720156 entries, 0 to 12720155\n",
      "Data columns (total 6 columns):\n",
      " #   Column         Dtype  \n",
      "---  ------         -----  \n",
      " 0   airmail_id     object \n",
      " 1   cust_pincode   int64  \n",
      " 2   business_flag  object \n",
      " 3   aop_l1         object \n",
      " 4   _col4          float64\n",
      " 5   _col5          float64\n",
      "dtypes: float64(2), int64(1), object(3)\n",
      "memory usage: 582.3+ MB\n"
     ]
    }
   ],
   "source": [
    "rra_trans.info()"
   ]
  },
  {
   "cell_type": "code",
   "execution_count": 6,
   "id": "10e62acc",
   "metadata": {},
   "outputs": [
    {
     "data": {
      "text/plain": [
       "airmail_id            0\n",
       "cust_pincode          0\n",
       "business_flag         0\n",
       "aop_l1           215175\n",
       "_col4                 0\n",
       "_col5                 0\n",
       "dtype: int64"
      ]
     },
     "execution_count": 6,
     "metadata": {},
     "output_type": "execute_result"
    }
   ],
   "source": [
    "rra_trans.isna().sum()"
   ]
  },
  {
   "cell_type": "code",
   "execution_count": 14,
   "id": "306b7407",
   "metadata": {},
   "outputs": [
    {
     "data": {
      "text/plain": [
       "Index(['airmail_id', 'cust_pincode', 'business_flag', 'aop_l1', '_col4',\n",
       "       '_col5'],\n",
       "      dtype='object')"
      ]
     },
     "execution_count": 14,
     "metadata": {},
     "output_type": "execute_result"
    }
   ],
   "source": [
    "rra_trans.columns"
   ]
  },
  {
   "cell_type": "code",
   "execution_count": 13,
   "id": "60dec6a8",
   "metadata": {},
   "outputs": [
    {
     "data": {
      "text/html": [
       "<div>\n",
       "<style scoped>\n",
       "    .dataframe tbody tr th:only-of-type {\n",
       "        vertical-align: middle;\n",
       "    }\n",
       "\n",
       "    .dataframe tbody tr th {\n",
       "        vertical-align: top;\n",
       "    }\n",
       "\n",
       "    .dataframe thead th {\n",
       "        text-align: right;\n",
       "    }\n",
       "</style>\n",
       "<table border=\"1\" class=\"dataframe\">\n",
       "  <thead>\n",
       "    <tr style=\"text-align: right;\">\n",
       "      <th></th>\n",
       "      <th>Date</th>\n",
       "      <th>Session campaign</th>\n",
       "      <th>Transaction ID</th>\n",
       "    </tr>\n",
       "  </thead>\n",
       "  <tbody>\n",
       "    <tr>\n",
       "      <th>0</th>\n",
       "      <td>20240715</td>\n",
       "      <td>MyJio-CPS</td>\n",
       "      <td>17209863340006119A</td>\n",
       "    </tr>\n",
       "    <tr>\n",
       "      <th>1</th>\n",
       "      <td>20240715</td>\n",
       "      <td>MyJio-CPS</td>\n",
       "      <td>17210103260017888A</td>\n",
       "    </tr>\n",
       "    <tr>\n",
       "      <th>2</th>\n",
       "      <td>20240715</td>\n",
       "      <td>MyJio-CPS</td>\n",
       "      <td>17210125460022205A</td>\n",
       "    </tr>\n",
       "    <tr>\n",
       "      <th>3</th>\n",
       "      <td>20240715</td>\n",
       "      <td>MyJio-CPS</td>\n",
       "      <td>17210167200032109A</td>\n",
       "    </tr>\n",
       "    <tr>\n",
       "      <th>4</th>\n",
       "      <td>20240715</td>\n",
       "      <td>MyJio-CPS</td>\n",
       "      <td>17210199480040656A</td>\n",
       "    </tr>\n",
       "  </tbody>\n",
       "</table>\n",
       "</div>"
      ],
      "text/plain": [
       "       Date Session campaign      Transaction ID\n",
       "0  20240715        MyJio-CPS  17209863340006119A\n",
       "1  20240715        MyJio-CPS  17210103260017888A\n",
       "2  20240715        MyJio-CPS  17210125460022205A\n",
       "3  20240715        MyJio-CPS  17210167200032109A\n",
       "4  20240715        MyJio-CPS  17210199480040656A"
      ]
     },
     "execution_count": 13,
     "metadata": {},
     "output_type": "execute_result"
    }
   ],
   "source": [
    "ga_trans.head()"
   ]
  },
  {
   "cell_type": "code",
   "execution_count": 18,
   "id": "090dc1a9",
   "metadata": {},
   "outputs": [
    {
     "data": {
      "text/plain": [
       "Index(['Date', 'Session campaign', 'Transaction ID'], dtype='object')"
      ]
     },
     "execution_count": 18,
     "metadata": {},
     "output_type": "execute_result"
    }
   ],
   "source": [
    "ga_trans.columns"
   ]
  },
  {
   "cell_type": "code",
   "execution_count": 12,
   "id": "10ad357f",
   "metadata": {},
   "outputs": [],
   "source": [
    "ga_trans=ga_trans.iloc[:,0:3]"
   ]
  },
  {
   "cell_type": "code",
   "execution_count": 15,
   "id": "ea7d2a99",
   "metadata": {},
   "outputs": [
    {
     "name": "stdout",
     "output_type": "stream",
     "text": [
      "<class 'pandas.core.frame.DataFrame'>\n",
      "RangeIndex: 201044 entries, 0 to 201043\n",
      "Data columns (total 3 columns):\n",
      " #   Column            Non-Null Count   Dtype \n",
      "---  ------            --------------   ----- \n",
      " 0   Date              201044 non-null  int64 \n",
      " 1   Session campaign  201044 non-null  object\n",
      " 2   Transaction ID    201044 non-null  object\n",
      "dtypes: int64(1), object(2)\n",
      "memory usage: 4.6+ MB\n"
     ]
    }
   ],
   "source": [
    "ga_trans.info()"
   ]
  },
  {
   "cell_type": "code",
   "execution_count": 16,
   "id": "1ea59452",
   "metadata": {},
   "outputs": [
    {
     "data": {
      "text/plain": [
       "Date                0\n",
       "Session campaign    0\n",
       "Transaction ID      0\n",
       "dtype: int64"
      ]
     },
     "execution_count": 16,
     "metadata": {},
     "output_type": "execute_result"
    }
   ],
   "source": [
    "ga_trans.isna().sum()"
   ]
  },
  {
   "cell_type": "code",
   "execution_count": 17,
   "id": "71577223",
   "metadata": {},
   "outputs": [
    {
     "data": {
      "text/plain": [
       "Index(['Date', 'Session campaign', 'Transaction ID'], dtype='object')"
      ]
     },
     "execution_count": 17,
     "metadata": {},
     "output_type": "execute_result"
    }
   ],
   "source": [
    "ga_trans.columns"
   ]
  },
  {
   "cell_type": "code",
   "execution_count": 20,
   "id": "3a76da5a",
   "metadata": {},
   "outputs": [],
   "source": [
    "merge_1 = pd.merge(left=ga_trans,right=rra_trans,left_on=ga_trans[\"Transaction ID\"],right_on=rra_trans[\"airmail_id\"],how='left')"
   ]
  },
  {
   "cell_type": "code",
   "execution_count": 21,
   "id": "d4ffa80e",
   "metadata": {},
   "outputs": [
    {
     "name": "stdout",
     "output_type": "stream",
     "text": [
      "<class 'pandas.core.frame.DataFrame'>\n",
      "Int64Index: 309818 entries, 0 to 309817\n",
      "Data columns (total 10 columns):\n",
      " #   Column            Non-Null Count   Dtype  \n",
      "---  ------            --------------   -----  \n",
      " 0   key_0             309818 non-null  object \n",
      " 1   Date              309818 non-null  int64  \n",
      " 2   Session campaign  309818 non-null  object \n",
      " 3   Transaction ID    309818 non-null  object \n",
      " 4   airmail_id        309594 non-null  object \n",
      " 5   cust_pincode      309594 non-null  float64\n",
      " 6   business_flag     309594 non-null  object \n",
      " 7   aop_l1            303443 non-null  object \n",
      " 8   _col4             309594 non-null  float64\n",
      " 9   _col5             309594 non-null  float64\n",
      "dtypes: float64(3), int64(1), object(6)\n",
      "memory usage: 26.0+ MB\n"
     ]
    }
   ],
   "source": [
    "merge_1.info()"
   ]
  },
  {
   "cell_type": "code",
   "execution_count": 22,
   "id": "22f9d1b5",
   "metadata": {},
   "outputs": [
    {
     "data": {
      "text/html": [
       "<div>\n",
       "<style scoped>\n",
       "    .dataframe tbody tr th:only-of-type {\n",
       "        vertical-align: middle;\n",
       "    }\n",
       "\n",
       "    .dataframe tbody tr th {\n",
       "        vertical-align: top;\n",
       "    }\n",
       "\n",
       "    .dataframe thead th {\n",
       "        text-align: right;\n",
       "    }\n",
       "</style>\n",
       "<table border=\"1\" class=\"dataframe\">\n",
       "  <thead>\n",
       "    <tr style=\"text-align: right;\">\n",
       "      <th></th>\n",
       "      <th>key_0</th>\n",
       "      <th>Date</th>\n",
       "      <th>Session campaign</th>\n",
       "      <th>Transaction ID</th>\n",
       "      <th>airmail_id</th>\n",
       "      <th>cust_pincode</th>\n",
       "      <th>business_flag</th>\n",
       "      <th>aop_l1</th>\n",
       "      <th>_col4</th>\n",
       "      <th>_col5</th>\n",
       "    </tr>\n",
       "  </thead>\n",
       "  <tbody>\n",
       "    <tr>\n",
       "      <th>0</th>\n",
       "      <td>17209863340006119A</td>\n",
       "      <td>20240715</td>\n",
       "      <td>MyJio-CPS</td>\n",
       "      <td>17209863340006119A</td>\n",
       "      <td>17209863340006119A</td>\n",
       "      <td>689595.0</td>\n",
       "      <td>1P</td>\n",
       "      <td>Staples</td>\n",
       "      <td>1969.0</td>\n",
       "      <td>8.0</td>\n",
       "    </tr>\n",
       "    <tr>\n",
       "      <th>1</th>\n",
       "      <td>17210103260017888A</td>\n",
       "      <td>20240715</td>\n",
       "      <td>MyJio-CPS</td>\n",
       "      <td>17210103260017888A</td>\n",
       "      <td>17210103260017888A</td>\n",
       "      <td>125001.0</td>\n",
       "      <td>3P</td>\n",
       "      <td>Home Entertainment</td>\n",
       "      <td>399.0</td>\n",
       "      <td>1.0</td>\n",
       "    </tr>\n",
       "    <tr>\n",
       "      <th>2</th>\n",
       "      <td>17210125460022205A</td>\n",
       "      <td>20240715</td>\n",
       "      <td>MyJio-CPS</td>\n",
       "      <td>17210125460022205A</td>\n",
       "      <td>17210125460022205A</td>\n",
       "      <td>560048.0</td>\n",
       "      <td>3P</td>\n",
       "      <td>Beauty &amp; Luxury Beauty</td>\n",
       "      <td>212.0</td>\n",
       "      <td>1.0</td>\n",
       "    </tr>\n",
       "    <tr>\n",
       "      <th>3</th>\n",
       "      <td>17210167200032109A</td>\n",
       "      <td>20240715</td>\n",
       "      <td>MyJio-CPS</td>\n",
       "      <td>17210167200032109A</td>\n",
       "      <td>17210167200032109A</td>\n",
       "      <td>180015.0</td>\n",
       "      <td>1P</td>\n",
       "      <td>-</td>\n",
       "      <td>199.0</td>\n",
       "      <td>1.0</td>\n",
       "    </tr>\n",
       "    <tr>\n",
       "      <th>4</th>\n",
       "      <td>17210199480040656A</td>\n",
       "      <td>20240715</td>\n",
       "      <td>MyJio-CPS</td>\n",
       "      <td>17210199480040656A</td>\n",
       "      <td>17210199480040656A</td>\n",
       "      <td>400097.0</td>\n",
       "      <td>1P</td>\n",
       "      <td>FMCG</td>\n",
       "      <td>10.0</td>\n",
       "      <td>1.0</td>\n",
       "    </tr>\n",
       "  </tbody>\n",
       "</table>\n",
       "</div>"
      ],
      "text/plain": [
       "                key_0      Date Session campaign      Transaction ID  \\\n",
       "0  17209863340006119A  20240715        MyJio-CPS  17209863340006119A   \n",
       "1  17210103260017888A  20240715        MyJio-CPS  17210103260017888A   \n",
       "2  17210125460022205A  20240715        MyJio-CPS  17210125460022205A   \n",
       "3  17210167200032109A  20240715        MyJio-CPS  17210167200032109A   \n",
       "4  17210199480040656A  20240715        MyJio-CPS  17210199480040656A   \n",
       "\n",
       "           airmail_id  cust_pincode business_flag                  aop_l1  \\\n",
       "0  17209863340006119A      689595.0            1P                 Staples   \n",
       "1  17210103260017888A      125001.0            3P      Home Entertainment   \n",
       "2  17210125460022205A      560048.0            3P  Beauty & Luxury Beauty   \n",
       "3  17210167200032109A      180015.0            1P                       -   \n",
       "4  17210199480040656A      400097.0            1P                    FMCG   \n",
       "\n",
       "    _col4  _col5  \n",
       "0  1969.0    8.0  \n",
       "1   399.0    1.0  \n",
       "2   212.0    1.0  \n",
       "3   199.0    1.0  \n",
       "4    10.0    1.0  "
      ]
     },
     "execution_count": 22,
     "metadata": {},
     "output_type": "execute_result"
    }
   ],
   "source": [
    "merge_1.head()"
   ]
  },
  {
   "cell_type": "code",
   "execution_count": 23,
   "id": "cc7766ae",
   "metadata": {},
   "outputs": [],
   "source": [
    "merge_1.to_excel(\"merge_1.xlsx\")"
   ]
  },
  {
   "cell_type": "code",
   "execution_count": 28,
   "id": "90619f87",
   "metadata": {},
   "outputs": [],
   "source": [
    "merge_2 = pd.merge(right=ga_trans,left=rra_trans,right_on=ga_trans[\"Transaction ID\"],left_on=rra_trans[\"airmail_id\"],how='left')"
   ]
  },
  {
   "cell_type": "code",
   "execution_count": 29,
   "id": "d1242c0b",
   "metadata": {},
   "outputs": [
    {
     "data": {
      "text/html": [
       "<div>\n",
       "<style scoped>\n",
       "    .dataframe tbody tr th:only-of-type {\n",
       "        vertical-align: middle;\n",
       "    }\n",
       "\n",
       "    .dataframe tbody tr th {\n",
       "        vertical-align: top;\n",
       "    }\n",
       "\n",
       "    .dataframe thead th {\n",
       "        text-align: right;\n",
       "    }\n",
       "</style>\n",
       "<table border=\"1\" class=\"dataframe\">\n",
       "  <thead>\n",
       "    <tr style=\"text-align: right;\">\n",
       "      <th></th>\n",
       "      <th>key_0</th>\n",
       "      <th>airmail_id</th>\n",
       "      <th>cust_pincode</th>\n",
       "      <th>business_flag</th>\n",
       "      <th>aop_l1</th>\n",
       "      <th>_col4</th>\n",
       "      <th>_col5</th>\n",
       "      <th>Date</th>\n",
       "      <th>Session campaign</th>\n",
       "      <th>Transaction ID</th>\n",
       "    </tr>\n",
       "  </thead>\n",
       "  <tbody>\n",
       "    <tr>\n",
       "      <th>0</th>\n",
       "      <td>17228009660007401A</td>\n",
       "      <td>17228009660007401A</td>\n",
       "      <td>110034</td>\n",
       "      <td>3P</td>\n",
       "      <td>-</td>\n",
       "      <td>149.0</td>\n",
       "      <td>1.0</td>\n",
       "      <td>NaN</td>\n",
       "      <td>NaN</td>\n",
       "      <td>NaN</td>\n",
       "    </tr>\n",
       "    <tr>\n",
       "      <th>1</th>\n",
       "      <td>17228540670113951A</td>\n",
       "      <td>17228540670113951A</td>\n",
       "      <td>732205</td>\n",
       "      <td>3P</td>\n",
       "      <td>-</td>\n",
       "      <td>399.0</td>\n",
       "      <td>1.0</td>\n",
       "      <td>NaN</td>\n",
       "      <td>NaN</td>\n",
       "      <td>NaN</td>\n",
       "    </tr>\n",
       "    <tr>\n",
       "      <th>2</th>\n",
       "      <td>17228569380122823A</td>\n",
       "      <td>17228569380122823A</td>\n",
       "      <td>302004</td>\n",
       "      <td>3P</td>\n",
       "      <td>GM</td>\n",
       "      <td>678.0</td>\n",
       "      <td>1.0</td>\n",
       "      <td>NaN</td>\n",
       "      <td>NaN</td>\n",
       "      <td>NaN</td>\n",
       "    </tr>\n",
       "    <tr>\n",
       "      <th>3</th>\n",
       "      <td>17228407610070923M</td>\n",
       "      <td>17228407610070923M</td>\n",
       "      <td>782001</td>\n",
       "      <td>3P</td>\n",
       "      <td>GM</td>\n",
       "      <td>300.0</td>\n",
       "      <td>1.0</td>\n",
       "      <td>NaN</td>\n",
       "      <td>NaN</td>\n",
       "      <td>NaN</td>\n",
       "    </tr>\n",
       "    <tr>\n",
       "      <th>4</th>\n",
       "      <td>17228248780020775M</td>\n",
       "      <td>17228248780020775M</td>\n",
       "      <td>482001</td>\n",
       "      <td>3P</td>\n",
       "      <td>GM</td>\n",
       "      <td>178.0</td>\n",
       "      <td>1.0</td>\n",
       "      <td>NaN</td>\n",
       "      <td>NaN</td>\n",
       "      <td>NaN</td>\n",
       "    </tr>\n",
       "  </tbody>\n",
       "</table>\n",
       "</div>"
      ],
      "text/plain": [
       "                key_0          airmail_id  cust_pincode business_flag aop_l1  \\\n",
       "0  17228009660007401A  17228009660007401A        110034            3P      -   \n",
       "1  17228540670113951A  17228540670113951A        732205            3P      -   \n",
       "2  17228569380122823A  17228569380122823A        302004            3P     GM   \n",
       "3  17228407610070923M  17228407610070923M        782001            3P     GM   \n",
       "4  17228248780020775M  17228248780020775M        482001            3P     GM   \n",
       "\n",
       "   _col4  _col5  Date Session campaign Transaction ID  \n",
       "0  149.0    1.0   NaN              NaN            NaN  \n",
       "1  399.0    1.0   NaN              NaN            NaN  \n",
       "2  678.0    1.0   NaN              NaN            NaN  \n",
       "3  300.0    1.0   NaN              NaN            NaN  \n",
       "4  178.0    1.0   NaN              NaN            NaN  "
      ]
     },
     "execution_count": 29,
     "metadata": {},
     "output_type": "execute_result"
    }
   ],
   "source": [
    "merge_2.head()"
   ]
  },
  {
   "cell_type": "code",
   "execution_count": 30,
   "id": "f98047da",
   "metadata": {},
   "outputs": [
    {
     "name": "stdout",
     "output_type": "stream",
     "text": [
      "<class 'pandas.core.frame.DataFrame'>\n",
      "Int64Index: 12720156 entries, 0 to 12720155\n",
      "Data columns (total 10 columns):\n",
      " #   Column            Dtype  \n",
      "---  ------            -----  \n",
      " 0   key_0             object \n",
      " 1   airmail_id        object \n",
      " 2   cust_pincode      int64  \n",
      " 3   business_flag     object \n",
      " 4   aop_l1            object \n",
      " 5   _col4             float64\n",
      " 6   _col5             float64\n",
      " 7   Date              float64\n",
      " 8   Session campaign  object \n",
      " 9   Transaction ID    object \n",
      "dtypes: float64(3), int64(1), object(6)\n",
      "memory usage: 1.0+ GB\n"
     ]
    }
   ],
   "source": [
    "merge_2.info()"
   ]
  },
  {
   "cell_type": "code",
   "execution_count": 31,
   "id": "f8b3c60c",
   "metadata": {},
   "outputs": [
    {
     "data": {
      "text/plain": [
       "12410562"
      ]
     },
     "execution_count": 31,
     "metadata": {},
     "output_type": "execute_result"
    }
   ],
   "source": [
    "merge_2['Transaction ID'].isna().sum()"
   ]
  },
  {
   "cell_type": "code",
   "execution_count": 32,
   "id": "4282bda3",
   "metadata": {},
   "outputs": [],
   "source": [
    "merge_2_cleaned= merge_2.dropna(subset=['Transaction ID'])"
   ]
  },
  {
   "cell_type": "code",
   "execution_count": 33,
   "id": "73f04533",
   "metadata": {},
   "outputs": [
    {
     "data": {
      "text/html": [
       "<div>\n",
       "<style scoped>\n",
       "    .dataframe tbody tr th:only-of-type {\n",
       "        vertical-align: middle;\n",
       "    }\n",
       "\n",
       "    .dataframe tbody tr th {\n",
       "        vertical-align: top;\n",
       "    }\n",
       "\n",
       "    .dataframe thead th {\n",
       "        text-align: right;\n",
       "    }\n",
       "</style>\n",
       "<table border=\"1\" class=\"dataframe\">\n",
       "  <thead>\n",
       "    <tr style=\"text-align: right;\">\n",
       "      <th></th>\n",
       "      <th>key_0</th>\n",
       "      <th>airmail_id</th>\n",
       "      <th>cust_pincode</th>\n",
       "      <th>business_flag</th>\n",
       "      <th>aop_l1</th>\n",
       "      <th>_col4</th>\n",
       "      <th>_col5</th>\n",
       "      <th>Date</th>\n",
       "      <th>Session campaign</th>\n",
       "      <th>Transaction ID</th>\n",
       "    </tr>\n",
       "  </thead>\n",
       "  <tbody>\n",
       "    <tr>\n",
       "      <th>24</th>\n",
       "      <td>17199112930091231A</td>\n",
       "      <td>17199112930091231A</td>\n",
       "      <td>786003</td>\n",
       "      <td>1P</td>\n",
       "      <td>-</td>\n",
       "      <td>139.0</td>\n",
       "      <td>1.0</td>\n",
       "      <td>20240702.0</td>\n",
       "      <td>crm_top_banner/</td>\n",
       "      <td>17199112930091231A</td>\n",
       "    </tr>\n",
       "    <tr>\n",
       "      <th>30</th>\n",
       "      <td>17232729010083576A</td>\n",
       "      <td>17232729010083576A</td>\n",
       "      <td>641062</td>\n",
       "      <td>3P</td>\n",
       "      <td>GM</td>\n",
       "      <td>259.0</td>\n",
       "      <td>1.0</td>\n",
       "      <td>20240810.0</td>\n",
       "      <td>crm_promo_banner/</td>\n",
       "      <td>17232729010083576A</td>\n",
       "    </tr>\n",
       "    <tr>\n",
       "      <th>37</th>\n",
       "      <td>17225017290108708A</td>\n",
       "      <td>17225017290108708A</td>\n",
       "      <td>786192</td>\n",
       "      <td>3P</td>\n",
       "      <td>Appliances</td>\n",
       "      <td>435.0</td>\n",
       "      <td>1.0</td>\n",
       "      <td>20240801.0</td>\n",
       "      <td>crm_top_navigation/</td>\n",
       "      <td>17225017290108708A</td>\n",
       "    </tr>\n",
       "    <tr>\n",
       "      <th>57</th>\n",
       "      <td>17224117890070023A</td>\n",
       "      <td>17224117890070023A</td>\n",
       "      <td>452006</td>\n",
       "      <td>1P</td>\n",
       "      <td>Mobiles &amp; PC</td>\n",
       "      <td>1299.0</td>\n",
       "      <td>1.0</td>\n",
       "      <td>20240731.0</td>\n",
       "      <td>crm_top_navigation/</td>\n",
       "      <td>17224117890070023A</td>\n",
       "    </tr>\n",
       "    <tr>\n",
       "      <th>109</th>\n",
       "      <td>17204296190082896A</td>\n",
       "      <td>17204296190082896A</td>\n",
       "      <td>110019</td>\n",
       "      <td>3P</td>\n",
       "      <td>F&amp;L</td>\n",
       "      <td>399.0</td>\n",
       "      <td>1.0</td>\n",
       "      <td>20240708.0</td>\n",
       "      <td>crm_top_navigation/</td>\n",
       "      <td>17204296190082896A</td>\n",
       "    </tr>\n",
       "  </tbody>\n",
       "</table>\n",
       "</div>"
      ],
      "text/plain": [
       "                  key_0          airmail_id  cust_pincode business_flag  \\\n",
       "24   17199112930091231A  17199112930091231A        786003            1P   \n",
       "30   17232729010083576A  17232729010083576A        641062            3P   \n",
       "37   17225017290108708A  17225017290108708A        786192            3P   \n",
       "57   17224117890070023A  17224117890070023A        452006            1P   \n",
       "109  17204296190082896A  17204296190082896A        110019            3P   \n",
       "\n",
       "           aop_l1   _col4  _col5        Date     Session campaign  \\\n",
       "24              -   139.0    1.0  20240702.0      crm_top_banner/   \n",
       "30             GM   259.0    1.0  20240810.0    crm_promo_banner/   \n",
       "37     Appliances   435.0    1.0  20240801.0  crm_top_navigation/   \n",
       "57   Mobiles & PC  1299.0    1.0  20240731.0  crm_top_navigation/   \n",
       "109           F&L   399.0    1.0  20240708.0  crm_top_navigation/   \n",
       "\n",
       "         Transaction ID  \n",
       "24   17199112930091231A  \n",
       "30   17232729010083576A  \n",
       "37   17225017290108708A  \n",
       "57   17224117890070023A  \n",
       "109  17204296190082896A  "
      ]
     },
     "execution_count": 33,
     "metadata": {},
     "output_type": "execute_result"
    }
   ],
   "source": [
    "merge_2_cleaned.head()"
   ]
  },
  {
   "cell_type": "code",
   "execution_count": 34,
   "id": "ad86f488",
   "metadata": {},
   "outputs": [
    {
     "name": "stdout",
     "output_type": "stream",
     "text": [
      "<class 'pandas.core.frame.DataFrame'>\n",
      "Int64Index: 309594 entries, 24 to 12720103\n",
      "Data columns (total 10 columns):\n",
      " #   Column            Non-Null Count   Dtype  \n",
      "---  ------            --------------   -----  \n",
      " 0   key_0             309594 non-null  object \n",
      " 1   airmail_id        309594 non-null  object \n",
      " 2   cust_pincode      309594 non-null  int64  \n",
      " 3   business_flag     309594 non-null  object \n",
      " 4   aop_l1            303443 non-null  object \n",
      " 5   _col4             309594 non-null  float64\n",
      " 6   _col5             309594 non-null  float64\n",
      " 7   Date              309594 non-null  float64\n",
      " 8   Session campaign  309594 non-null  object \n",
      " 9   Transaction ID    309594 non-null  object \n",
      "dtypes: float64(3), int64(1), object(6)\n",
      "memory usage: 26.0+ MB\n"
     ]
    }
   ],
   "source": [
    "merge_2_cleaned.info()"
   ]
  },
  {
   "cell_type": "code",
   "execution_count": 35,
   "id": "075330b6",
   "metadata": {},
   "outputs": [],
   "source": [
    "merge_2_cleaned.to_excel('merge_2_cleaned.xlsx')"
   ]
  },
  {
   "cell_type": "code",
   "execution_count": 26,
   "id": "46780e8e",
   "metadata": {},
   "outputs": [
    {
     "data": {
      "text/plain": [
       "9996"
      ]
     },
     "execution_count": 26,
     "metadata": {},
     "output_type": "execute_result"
    }
   ],
   "source": [
    "min = (lambda x, y: x if x < y else y)\n",
    "min(101*99, 102*98)"
   ]
  }
 ],
 "metadata": {
  "kernelspec": {
   "display_name": "Python 3 (ipykernel)",
   "language": "python",
   "name": "python3"
  },
  "language_info": {
   "codemirror_mode": {
    "name": "ipython",
    "version": 3
   },
   "file_extension": ".py",
   "mimetype": "text/x-python",
   "name": "python",
   "nbconvert_exporter": "python",
   "pygments_lexer": "ipython3",
   "version": "3.11.4"
  }
 },
 "nbformat": 4,
 "nbformat_minor": 5
}
